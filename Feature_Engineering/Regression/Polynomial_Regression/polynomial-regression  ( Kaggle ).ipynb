{
 "cells": [
  {
   "cell_type": "code",
   "execution_count": 1,
   "metadata": {
    "execution": {
     "iopub.execute_input": "2021-03-26T17:49:41.743905Z",
     "iopub.status.busy": "2021-03-26T17:49:41.743177Z",
     "iopub.status.idle": "2021-03-26T17:49:41.747024Z",
     "shell.execute_reply": "2021-03-26T17:49:41.747557Z"
    },
    "papermill": {
     "duration": 0.020132,
     "end_time": "2021-03-26T17:49:41.747975",
     "exception": false,
     "start_time": "2021-03-26T17:49:41.727843",
     "status": "completed"
    },
    "tags": []
   },
   "outputs": [],
   "source": [
    "# Polynomial Regression\n",
    "\n",
    "# Importing the libraries\n",
    "import numpy as np\n",
    "import matplotlib.pyplot as plt\n",
    "import pandas as pd"
   ]
  },
  {
   "cell_type": "code",
   "execution_count": 2,
   "metadata": {
    "execution": {
     "iopub.execute_input": "2021-03-26T17:49:41.771698Z",
     "iopub.status.busy": "2021-03-26T17:49:41.770758Z",
     "iopub.status.idle": "2021-03-26T17:49:41.793550Z",
     "shell.execute_reply": "2021-03-26T17:49:41.792907Z"
    },
    "papermill": {
     "duration": 0.036866,
     "end_time": "2021-03-26T17:49:41.793726",
     "exception": false,
     "start_time": "2021-03-26T17:49:41.756860",
     "status": "completed"
    },
    "tags": []
   },
   "outputs": [],
   "source": [
    "# Importing the dataset\n",
    "dataset = pd.read_csv('../input/position-salary-dataset/Position_Salaries.csv')\n",
    "X = dataset.iloc[:, 1:-1].values\n",
    "y = dataset.iloc[:, -1].values"
   ]
  },
  {
   "cell_type": "code",
   "execution_count": 3,
   "metadata": {
    "execution": {
     "iopub.execute_input": "2021-03-26T17:49:41.825710Z",
     "iopub.status.busy": "2021-03-26T17:49:41.824909Z",
     "iopub.status.idle": "2021-03-26T17:49:41.842554Z",
     "shell.execute_reply": "2021-03-26T17:49:41.843186Z"
    },
    "papermill": {
     "duration": 0.040815,
     "end_time": "2021-03-26T17:49:41.843401",
     "exception": false,
     "start_time": "2021-03-26T17:49:41.802586",
     "status": "completed"
    },
    "tags": []
   },
   "outputs": [
    {
     "data": {
      "text/html": [
       "<div>\n",
       "<style scoped>\n",
       "    .dataframe tbody tr th:only-of-type {\n",
       "        vertical-align: middle;\n",
       "    }\n",
       "\n",
       "    .dataframe tbody tr th {\n",
       "        vertical-align: top;\n",
       "    }\n",
       "\n",
       "    .dataframe thead th {\n",
       "        text-align: right;\n",
       "    }\n",
       "</style>\n",
       "<table border=\"1\" class=\"dataframe\">\n",
       "  <thead>\n",
       "    <tr style=\"text-align: right;\">\n",
       "      <th></th>\n",
       "      <th>Position</th>\n",
       "      <th>Level</th>\n",
       "      <th>Salary</th>\n",
       "    </tr>\n",
       "  </thead>\n",
       "  <tbody>\n",
       "    <tr>\n",
       "      <th>0</th>\n",
       "      <td>Business Analyst</td>\n",
       "      <td>1</td>\n",
       "      <td>45000</td>\n",
       "    </tr>\n",
       "    <tr>\n",
       "      <th>1</th>\n",
       "      <td>Junior Consultant</td>\n",
       "      <td>2</td>\n",
       "      <td>50000</td>\n",
       "    </tr>\n",
       "    <tr>\n",
       "      <th>2</th>\n",
       "      <td>Senior Consultant</td>\n",
       "      <td>3</td>\n",
       "      <td>60000</td>\n",
       "    </tr>\n",
       "    <tr>\n",
       "      <th>3</th>\n",
       "      <td>Manager</td>\n",
       "      <td>4</td>\n",
       "      <td>80000</td>\n",
       "    </tr>\n",
       "    <tr>\n",
       "      <th>4</th>\n",
       "      <td>Country Manager</td>\n",
       "      <td>5</td>\n",
       "      <td>110000</td>\n",
       "    </tr>\n",
       "  </tbody>\n",
       "</table>\n",
       "</div>"
      ],
      "text/plain": [
       "            Position  Level  Salary\n",
       "0   Business Analyst      1   45000\n",
       "1  Junior Consultant      2   50000\n",
       "2  Senior Consultant      3   60000\n",
       "3            Manager      4   80000\n",
       "4    Country Manager      5  110000"
      ]
     },
     "execution_count": 3,
     "metadata": {},
     "output_type": "execute_result"
    }
   ],
   "source": [
    "# Displaying the dataset\n",
    "dataset.head()"
   ]
  },
  {
   "cell_type": "code",
   "execution_count": 4,
   "metadata": {
    "execution": {
     "iopub.execute_input": "2021-03-26T17:49:41.867237Z",
     "iopub.status.busy": "2021-03-26T17:49:41.866374Z",
     "iopub.status.idle": "2021-03-26T17:49:41.871575Z",
     "shell.execute_reply": "2021-03-26T17:49:41.870954Z"
    },
    "papermill": {
     "duration": 0.019353,
     "end_time": "2021-03-26T17:49:41.871761",
     "exception": false,
     "start_time": "2021-03-26T17:49:41.852408",
     "status": "completed"
    },
    "tags": []
   },
   "outputs": [
    {
     "data": {
      "text/plain": [
       "array([[ 1],\n",
       "       [ 2],\n",
       "       [ 3],\n",
       "       [ 4],\n",
       "       [ 5],\n",
       "       [ 6],\n",
       "       [ 7],\n",
       "       [ 8],\n",
       "       [ 9],\n",
       "       [10]])"
      ]
     },
     "execution_count": 4,
     "metadata": {},
     "output_type": "execute_result"
    }
   ],
   "source": [
    "# Displaying X\n",
    "X"
   ]
  },
  {
   "cell_type": "code",
   "execution_count": 5,
   "metadata": {
    "execution": {
     "iopub.execute_input": "2021-03-26T17:49:41.897107Z",
     "iopub.status.busy": "2021-03-26T17:49:41.896100Z",
     "iopub.status.idle": "2021-03-26T17:49:41.901579Z",
     "shell.execute_reply": "2021-03-26T17:49:41.900883Z"
    },
    "papermill": {
     "duration": 0.020595,
     "end_time": "2021-03-26T17:49:41.901755",
     "exception": false,
     "start_time": "2021-03-26T17:49:41.881160",
     "status": "completed"
    },
    "tags": []
   },
   "outputs": [
    {
     "data": {
      "text/plain": [
       "array([  45000,   50000,   60000,   80000,  110000,  150000,  200000,\n",
       "        300000,  500000, 1000000])"
      ]
     },
     "execution_count": 5,
     "metadata": {},
     "output_type": "execute_result"
    }
   ],
   "source": [
    "# Displaying y\n",
    "y"
   ]
  },
  {
   "cell_type": "code",
   "execution_count": 6,
   "metadata": {
    "execution": {
     "iopub.execute_input": "2021-03-26T17:49:41.927585Z",
     "iopub.status.busy": "2021-03-26T17:49:41.926823Z",
     "iopub.status.idle": "2021-03-26T17:49:43.294172Z",
     "shell.execute_reply": "2021-03-26T17:49:43.293481Z"
    },
    "papermill": {
     "duration": 1.382783,
     "end_time": "2021-03-26T17:49:43.294370",
     "exception": false,
     "start_time": "2021-03-26T17:49:41.911587",
     "status": "completed"
    },
    "tags": []
   },
   "outputs": [
    {
     "data": {
      "text/plain": [
       "LinearRegression()"
      ]
     },
     "execution_count": 6,
     "metadata": {},
     "output_type": "execute_result"
    }
   ],
   "source": [
    "# Training the Linear Regression model on the whole dataset\n",
    "from sklearn.linear_model import LinearRegression\n",
    "lin_reg = LinearRegression()\n",
    "lin_reg.fit(X, y)"
   ]
  },
  {
   "cell_type": "code",
   "execution_count": 7,
   "metadata": {
    "execution": {
     "iopub.execute_input": "2021-03-26T17:49:43.327071Z",
     "iopub.status.busy": "2021-03-26T17:49:43.326006Z",
     "iopub.status.idle": "2021-03-26T17:49:43.331786Z",
     "shell.execute_reply": "2021-03-26T17:49:43.331102Z"
    },
    "papermill": {
     "duration": 0.027368,
     "end_time": "2021-03-26T17:49:43.331931",
     "exception": false,
     "start_time": "2021-03-26T17:49:43.304563",
     "status": "completed"
    },
    "tags": []
   },
   "outputs": [
    {
     "data": {
      "text/plain": [
       "LinearRegression()"
      ]
     },
     "execution_count": 7,
     "metadata": {},
     "output_type": "execute_result"
    }
   ],
   "source": [
    "# Training the Polynomial Regression model on the whole dataset\n",
    "from sklearn.preprocessing import PolynomialFeatures\n",
    "poly_reg = PolynomialFeatures(degree = 4)\n",
    "X_poly = poly_reg.fit_transform(X)\n",
    "lin_reg_2 = LinearRegression()\n",
    "lin_reg_2.fit(X_poly, y)"
   ]
  },
  {
   "cell_type": "code",
   "execution_count": 8,
   "metadata": {
    "execution": {
     "iopub.execute_input": "2021-03-26T17:49:43.374835Z",
     "iopub.status.busy": "2021-03-26T17:49:43.355986Z",
     "iopub.status.idle": "2021-03-26T17:49:43.713872Z",
     "shell.execute_reply": "2021-03-26T17:49:43.714365Z"
    },
    "papermill": {
     "duration": 0.372174,
     "end_time": "2021-03-26T17:49:43.714554",
     "exception": false,
     "start_time": "2021-03-26T17:49:43.342380",
     "status": "completed"
    },
    "tags": []
   },
   "outputs": [
    {
     "data": {
      "image/png": "[encoded data removed]",
      "text/plain": [
       "<Figure size 432x288 with 1 Axes>"
      ]
     },
     "metadata": {
      "needs_background": "light"
     },
     "output_type": "display_data"
    }
   ],
   "source": [
    "# Visualising the Linear Regression results\n",
    "plt.scatter(X, y, color = 'red')\n",
    "plt.plot(X, lin_reg.predict(X), color = 'blue')\n",
    "plt.title('Truth or Bluff (Linear Regression)')\n",
    "plt.xlabel('Position Level')\n",
    "plt.ylabel('Salary')\n",
    "plt.show()"
   ]
  },
  {
   "cell_type": "code",
   "execution_count": 9,
   "metadata": {
    "execution": {
     "iopub.execute_input": "2021-03-26T17:49:43.762018Z",
     "iopub.status.busy": "2021-03-26T17:49:43.759855Z",
     "iopub.status.idle": "2021-03-26T17:49:43.909410Z",
     "shell.execute_reply": "2021-03-26T17:49:43.908309Z"
    },
    "papermill": {
     "duration": 0.184056,
     "end_time": "2021-03-26T17:49:43.909675",
     "exception": false,
     "start_time": "2021-03-26T17:49:43.725619",
     "status": "completed"
    },
    "tags": []
   },
   "outputs": [
    {
     "data": {
      "image/png": "[encoded data removed]",
      "text/plain": [
       "<Figure size 432x288 with 1 Axes>"
      ]
     },
     "metadata": {
      "needs_background": "light"
     },
     "output_type": "display_data"
    }
   ],
   "source": [
    "# Visualising the Polynomial Regression results\n",
    "plt.scatter(X, y, color = 'red')\n",
    "plt.plot(X, lin_reg_2.predict(poly_reg.fit_transform(X)), color = 'blue')\n",
    "plt.title('Truth or Bluff (Polynomial Regression)')\n",
    "plt.xlabel('Position level')\n",
    "plt.ylabel('Salary')\n",
    "plt.show()"
   ]
  },
  {
   "cell_type": "code",
   "execution_count": 10,
   "metadata": {
    "execution": {
     "iopub.execute_input": "2021-03-26T17:49:43.989197Z",
     "iopub.status.busy": "2021-03-26T17:49:43.969193Z",
     "iopub.status.idle": "2021-03-26T17:49:44.114375Z",
     "shell.execute_reply": "2021-03-26T17:49:44.113686Z"
    },
    "papermill": {
     "duration": 0.192445,
     "end_time": "2021-03-26T17:49:44.114521",
     "exception": false,
     "start_time": "2021-03-26T17:49:43.922076",
     "status": "completed"
    },
    "tags": []
   },
   "outputs": [
    {
     "data": {
      "image/png": "[encoded data removed]",
      "text/plain": [
       "<Figure size 432x288 with 1 Axes>"
      ]
     },
     "metadata": {
      "needs_background": "light"
     },
     "output_type": "display_data"
    }
   ],
   "source": [
    "# Visualising the Polynomial Regression results (for higher resolution and smoother curve)\n",
    "X_grid = np.arange(min(X), max(X), 0.1)\n",
    "X_grid = X_grid.reshape((len(X_grid), 1))\n",
    "plt.scatter(X, y, color = 'red')\n",
    "plt.plot(X_grid, lin_reg_2.predict(poly_reg.fit_transform(X_grid)), color = 'blue')\n",
    "plt.title('Truth or Bluff (Polynomial Regression)')\n",
    "plt.xlabel('Position level')\n",
    "plt.ylabel('Salary')\n",
    "plt.show()"
   ]
  },
  {
   "cell_type": "code",
   "execution_count": 11,
   "metadata": {
    "_cell_guid": "b1076dfc-b9ad-4769-8c92-a6c4dae69d19",
    "_uuid": "8f2839f25d086af736a60e9eeb907d3b93b6e0e5",
    "execution": {
     "iopub.execute_input": "2021-03-26T17:49:44.149798Z",
     "iopub.status.busy": "2021-03-26T17:49:44.148668Z",
     "iopub.status.idle": "2021-03-26T17:49:44.154795Z",
     "shell.execute_reply": "2021-03-26T17:49:44.153728Z"
    },
    "papermill": {
     "duration": 0.027111,
     "end_time": "2021-03-26T17:49:44.155016",
     "exception": false,
     "start_time": "2021-03-26T17:49:44.127905",
     "status": "completed"
    },
    "tags": []
   },
   "outputs": [
    {
     "data": {
      "text/plain": [
       "array([158862.45265155])"
      ]
     },
     "execution_count": 11,
     "metadata": {},
     "output_type": "execute_result"
    }
   ],
   "source": [
    "# Predicting a new result with Linear Regression\n",
    "lin_reg.predict([[6.5]])\n",
    "\n",
    "# Predicting a new result with Polynomial Regression\n",
    "lin_reg_2.predict(poly_reg.fit_transform([[6.5]]))"
   ]
  }
 ],
 "metadata": {
  "kernelspec": {
   "display_name": "Python 3",
   "language": "python",
   "name": "python3"
  },
  "language_info": {
   "codemirror_mode": {
    "name": "ipython",
    "version": 3
   },
   "file_extension": ".py",
   "mimetype": "text/x-python",
   "name": "python",
   "nbconvert_exporter": "python",
   "pygments_lexer": "ipython3",
   "version": "3.7.9"
  },
  "papermill": {
   "default_parameters": {},
   "duration": 9.507211,
   "end_time": "2021-03-26T17:49:44.888658",
   "environment_variables": {},
   "exception": null,
   "input_path": "__notebook__.ipynb",
   "output_path": "__notebook__.ipynb",
   "parameters": {},
   "start_time": "2021-03-26T17:49:35.381447",
   "version": "2.2.2"
  }
 },
 "nbformat": 4,
 "nbformat_minor": 4
}
